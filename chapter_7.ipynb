{
  "nbformat": 4,
  "nbformat_minor": 0,
  "metadata": {
    "colab": {
      "name": "chapter_7",
      "provenance": [],
      "toc_visible": true,
      "authorship_tag": "ABX9TyO1Dba4AMCe43xZfzHoxHyN",
      "include_colab_link": true
    },
    "kernelspec": {
      "name": "python3",
      "display_name": "Python 3"
    },
    "language_info": {
      "name": "python"
    }
  },
  "cells": [
    {
      "cell_type": "markdown",
      "metadata": {
        "id": "view-in-github",
        "colab_type": "text"
      },
      "source": [
        "<a href=\"https://colab.research.google.com/github/PIKAPIKAAAA/chaper_7/blob/main/chapter_7.ipynb\" target=\"_parent\"><img src=\"https://colab.research.google.com/assets/colab-badge.svg\" alt=\"Open In Colab\"/></a>"
      ]
    },
    {
      "cell_type": "markdown",
      "metadata": {
        "id": "5FNayJOqV5kL"
      },
      "source": [
        "7-1. Rental Car: Write a program that asks the user what kind of rental car they\n",
        "would like. Print a message about that car, such as “Let me see if I can find you\n",
        "a Subaru.”"
      ]
    },
    {
      "cell_type": "code",
      "metadata": {
        "colab": {
          "base_uri": "https://localhost:8080/"
        },
        "id": "8RA7xfZqKguv",
        "outputId": "e7c5438c-049e-458e-f562-6f9f36150f41"
      },
      "source": [
        "car = input(\"What kind of car would you like? \")\n",
        "\n",
        "print(\"Let me see if I can find you a \" + car.title() + \".\")"
      ],
      "execution_count": null,
      "outputs": [
        {
          "output_type": "stream",
          "name": "stdout",
          "text": [
            "What kind of car would you like? Subaru\n",
            "Let me see if I can find you a Subaru.\n"
          ]
        }
      ]
    },
    {
      "cell_type": "markdown",
      "metadata": {
        "id": "7jNs_r8vbaEN"
      },
      "source": [
        "7-2. Restaurant Seating: Write a program that asks the user how many people are in their dinner group. If the answer is more than eight, print a message saying they’ll have to wait for a table. Otherwise, report that their table is ready."
      ]
    },
    {
      "cell_type": "code",
      "metadata": {
        "colab": {
          "base_uri": "https://localhost:8080/"
        },
        "id": "jom-D2zDYyzM",
        "outputId": "7475f0ea-c726-42a9-8ab0-2dbae13c0ac1"
      },
      "source": [
        "party_size = input(\"How many people are in your dinner party tonight? \")\n",
        "party_size = int(party_size)\n",
        "\n",
        "if party_size > 8:\n",
        "    print(\"I'm sorry, you'll have to wait for a table.\")\n",
        "else:\n",
        "    print(\"Your table is ready.\")"
      ],
      "execution_count": null,
      "outputs": [
        {
          "output_type": "stream",
          "name": "stdout",
          "text": [
            "How many people are in your dinner party tonight? 9\n",
            "I'm sorry, you'll have to wait for a table.\n"
          ]
        }
      ]
    },
    {
      "cell_type": "code",
      "metadata": {
        "colab": {
          "base_uri": "https://localhost:8080/"
        },
        "id": "brKMW9m3ZcyH",
        "outputId": "c92812ed-5fbe-4023-b39b-6089c0806d1b"
      },
      "source": [
        "party_size = input(\"How many people are in your dinner party tonight? \")\n",
        "party_size = int(party_size)\n",
        "\n",
        "if party_size > 8:\n",
        "    print(\"I'm sorry, you'll have to wait for a table.\")\n",
        "else:\n",
        "    print(\"Your table is ready.\")"
      ],
      "execution_count": null,
      "outputs": [
        {
          "output_type": "stream",
          "name": "stdout",
          "text": [
            "How many people are in your dinner party tonight? 7\n",
            "Your table is ready.\n"
          ]
        }
      ]
    },
    {
      "cell_type": "markdown",
      "metadata": {
        "id": "NWXJuFRZbgbo"
      },
      "source": [
        "7-3. Multiples of Ten: Ask the user for a number, and then report whether the\n",
        "number is a multiple of 10 or not."
      ]
    },
    {
      "cell_type": "code",
      "metadata": {
        "colab": {
          "base_uri": "https://localhost:8080/"
        },
        "id": "Xe6RrvkjbhcP",
        "outputId": "bbf8c1f0-fb73-405b-ada5-4a417fd77cad"
      },
      "source": [
        "number = input(\"Give me a number, please: \")\n",
        "number = int(number)\n",
        "\n",
        "if number % 10 == 0:\n",
        "    print(str(number) + \" is a multiple of 10.\")\n",
        "else:\n",
        "    print(str(number) + \" is not a multiple of 10.\")"
      ],
      "execution_count": null,
      "outputs": [
        {
          "output_type": "stream",
          "name": "stdout",
          "text": [
            "Give me a number, please: 27\n",
            "27 is not a multiple of 10.\n"
          ]
        }
      ]
    },
    {
      "cell_type": "code",
      "metadata": {
        "colab": {
          "base_uri": "https://localhost:8080/"
        },
        "id": "_v5tWPRxbw5F",
        "outputId": "5a242918-7ffd-4811-8af8-d4e7041b8b6f"
      },
      "source": [
        "number = input(\"Give me a number, please: \")\n",
        "number = int(number)\n",
        "\n",
        "if number % 10 == 0:\n",
        "    print(str(number) + \" is a multiple of 10.\")\n",
        "else:\n",
        "    print(str(number) + \" is not a multiple of 10.\")"
      ],
      "execution_count": null,
      "outputs": [
        {
          "output_type": "stream",
          "name": "stdout",
          "text": [
            "Give me a number, please: 30\n",
            "30 is a multiple of 10.\n"
          ]
        }
      ]
    },
    {
      "cell_type": "markdown",
      "metadata": {
        "id": "uctXedr_b8JB"
      },
      "source": [
        "7-4. Pizza Toppings: Write a loop that prompts the user to enter a series of\n",
        "pizza toppings until they enter a 'quit' value. As they enter each topping,\n",
        "print a message saying you’ll add that topping to their pizza."
      ]
    },
    {
      "cell_type": "code",
      "metadata": {
        "colab": {
          "base_uri": "https://localhost:8080/"
        },
        "id": "dIyISuacb80f",
        "outputId": "7b42d195-8471-4e22-cdc2-3dddefeaa3a8"
      },
      "source": [
        "prompt = \"\\nWhat topping would you like on your pizza?\"\n",
        "prompt += \"\\nEnter 'quit' when you are finished: \"\n",
        "\n",
        "while True:\n",
        "    topping = input(prompt)\n",
        "    if topping != 'quit':\n",
        "        print(\"  I'll add \" + topping + \" to your pizza.\")\n",
        "    else:\n",
        "        break"
      ],
      "execution_count": null,
      "outputs": [
        {
          "name": "stdout",
          "output_type": "stream",
          "text": [
            "\n",
            "What topping would you like on your pizza?\n",
            "Enter 'quit' when you are finished: bacon\n",
            "  I'll add bacon to your pizza.\n",
            "\n",
            "What topping would you like on your pizza?\n",
            "Enter 'quit' when you are finished: cheese\n",
            "  I'll add cheese to your pizza.\n",
            "\n",
            "What topping would you like on your pizza?\n",
            "Enter 'quit' when you are finished: quit\n"
          ]
        }
      ]
    },
    {
      "cell_type": "markdown",
      "metadata": {
        "id": "K5G2oPxMcmg6"
      },
      "source": [
        "7-5. Movie Tickets: A movie theater charges different ticket prices depending on\n",
        "a person’s age. If a person is under the age of 3, the ticket is free; if they are\n",
        "between 3 and 12, the ticket is $10; and if they are over age 12, the ticket is\n",
        "$15. Write a loop in which you ask users their age, and then tell them the cost\n",
        "of their movie ticket."
      ]
    },
    {
      "cell_type": "code",
      "metadata": {
        "colab": {
          "base_uri": "https://localhost:8080/"
        },
        "id": "iN2h1D8MdCS2",
        "outputId": "2ffc0b46-8088-4a37-ea72-c3273c521108"
      },
      "source": [
        "prompt = \"How old are you?\"\n",
        "prompt += \"\\nEnter 'quit' when you are finished. \"\n",
        "\n",
        "while True:\n",
        "    age = input(prompt)\n",
        "    if age == 'quit':\n",
        "        break\n",
        "    age = int(age)\n",
        "\n",
        "    if age < 3:\n",
        "        print(\"  You get in free!\")\n",
        "    elif age < 13:\n",
        "        print(\"  Your ticket is $10.\")\n",
        "    else:\n",
        "        print(\"  Your ticket is $15.\")"
      ],
      "execution_count": null,
      "outputs": [
        {
          "name": "stdout",
          "output_type": "stream",
          "text": [
            "How old are you?\n",
            "Enter 'quit' when you are finished. 1\n",
            "  You get in free!\n",
            "How old are you?\n",
            "Enter 'quit' when you are finished. 11\n",
            "  Your ticket is $10.\n",
            "How old are you?\n",
            "Enter 'quit' when you are finished. 13\n",
            "  Your ticket is $15.\n",
            "How old are you?\n",
            "Enter 'quit' when you are finished. 27\n",
            "  Your ticket is $15.\n",
            "How old are you?\n",
            "Enter 'quit' when you are finished. quit\n"
          ]
        }
      ]
    },
    {
      "cell_type": "markdown",
      "metadata": {
        "id": "kKUWzkgYdZ4_"
      },
      "source": [
        "7-6. Three Exits: Write different versions of either Exercise 7-4 or Exercise 7-5\n",
        "that do each of the following at least once:\n",
        "•\t Use a conditional test in the while statement to stop the loop.\n",
        "•\t Use an active variable to control how long the loop runs.\n",
        "•\t Use a break statement to exit the loop when the user enters a 'quit' value."
      ]
    },
    {
      "cell_type": "code",
      "metadata": {
        "id": "c7LnLnWldbUW"
      },
      "source": [
        "#cant get what to do"
      ],
      "execution_count": null,
      "outputs": []
    },
    {
      "cell_type": "markdown",
      "metadata": {
        "id": "droc9KnFdiqa"
      },
      "source": [
        "7-7. Infinity: Write a loop that never ends, and run it. (To end the loop, press\n",
        "ctrl-C or close the window displaying the output"
      ]
    },
    {
      "cell_type": "code",
      "metadata": {
        "id": "fD13rcRndruy"
      },
      "source": [
        "#cant get what to do"
      ],
      "execution_count": null,
      "outputs": []
    },
    {
      "cell_type": "markdown",
      "metadata": {
        "id": "7cmL48pKdx5E"
      },
      "source": [
        "7-8. Deli: Make a list called sandwich_orders and fill it with the names of various sandwiches. Then make an empty list called finished_sandwiches. Loop\n",
        "through the list of sandwich orders and print a message for each order, such\n",
        "as I made your tuna sandwich. As each sandwich is made, move it to the list\n",
        "of finished sandwiches. After all the sandwiches have been made, print a\n",
        "message listing each sandwich that was made."
      ]
    },
    {
      "cell_type": "code",
      "metadata": {
        "colab": {
          "base_uri": "https://localhost:8080/"
        },
        "id": "cM4Zw3vgdzqz",
        "outputId": "92c35dac-ed1b-4cd7-8568-e787ed2d43b5"
      },
      "source": [
        "sandwich_orders = ['egg', 'grilled cheese', 'chicken', 'sea_food']\n",
        "finished_sandwiches = []\n",
        "\n",
        "while sandwich_orders:\n",
        "    current_sandwich = sandwich_orders.pop()\n",
        "    print(\"I'm working on your \" + current_sandwich + \" sandwich.\")\n",
        "    finished_sandwiches.append(current_sandwich)\n",
        "\n",
        "print(\"\\n\")\n",
        "for sandwich in finished_sandwiches:\n",
        "    print(\"I made a \" + sandwich + \" sandwich.\")"
      ],
      "execution_count": null,
      "outputs": [
        {
          "output_type": "stream",
          "name": "stdout",
          "text": [
            "I'm working on your sea_food sandwich.\n",
            "I'm working on your chicken sandwich.\n",
            "I'm working on your grilled cheese sandwich.\n",
            "I'm working on your egg sandwich.\n",
            "\n",
            "\n",
            "I made a sea_food sandwich.\n",
            "I made a chicken sandwich.\n",
            "I made a grilled cheese sandwich.\n",
            "I made a egg sandwich.\n"
          ]
        }
      ]
    },
    {
      "cell_type": "markdown",
      "metadata": {
        "id": "VrzrBkPQecoK"
      },
      "source": [
        "7-9. No Pastrami: Using the list sandwich_orders from Exercise 7-8, make sure\n",
        "the sandwich 'pastrami' appears in the list at least three times. Add code\n",
        "near the beginning of your program to print a message saying the deli has\n",
        "run out of pastrami, and then use a while loop to remove all occurrences of\n",
        "'pastrami' from sandwich_orders. Make sure no pastrami sandwiches end up\n",
        "in finished_sandwiches."
      ]
    },
    {
      "cell_type": "code",
      "metadata": {
        "colab": {
          "base_uri": "https://localhost:8080/"
        },
        "id": "iyXqO29heda6",
        "outputId": "495a9253-a305-4d56-ee45-3004b302c5cf"
      },
      "source": [
        "sandwich_orders = [\n",
        "    'nutelaa', 'egg', 'grilled cheese', 'pastrami',\n",
        "    'chicken', 'sea_food', 'nutella']\n",
        "finished_sandwiches = []\n",
        "\n",
        "print(\"I'm sorry, we're all out of pastrami today.\")\n",
        "while 'pastrami' in sandwich_orders:\n",
        "    sandwich_orders.remove('pastrami')\n",
        "\n",
        "print(\"\\n\")\n",
        "while sandwich_orders:\n",
        "    current_sandwich = sandwich_orders.pop()\n",
        "    print(\"I'm working on your \" + current_sandwich + \" sandwich.\")\n",
        "    finished_sandwiches.append(current_sandwich)\n",
        "\n",
        "print(\"\\n\")\n",
        "for sandwich in finished_sandwiches:\n",
        "    print(\"I made a \" + sandwich + \" sandwich.\")"
      ],
      "execution_count": null,
      "outputs": [
        {
          "output_type": "stream",
          "name": "stdout",
          "text": [
            "I'm sorry, we're all out of pastrami today.\n",
            "\n",
            "\n",
            "I'm working on your nutella sandwich.\n",
            "I'm working on your sea_food sandwich.\n",
            "I'm working on your chicken sandwich.\n",
            "I'm working on your grilled cheese sandwich.\n",
            "I'm working on your egg sandwich.\n",
            "I'm working on your nutelaa sandwich.\n",
            "\n",
            "\n",
            "I made a nutella sandwich.\n",
            "I made a sea_food sandwich.\n",
            "I made a chicken sandwich.\n",
            "I made a grilled cheese sandwich.\n",
            "I made a egg sandwich.\n",
            "I made a nutelaa sandwich.\n"
          ]
        }
      ]
    },
    {
      "cell_type": "markdown",
      "metadata": {
        "id": "k_bNfRrme6cY"
      },
      "source": [
        "7-10. Dream Vacation: Write a program that polls users about their dream\n",
        "vacation. Write a prompt similar to If you could visit one place in the world,\n",
        "where would you go? Include a block of code that prints the results of the poll"
      ]
    },
    {
      "cell_type": "code",
      "metadata": {
        "colab": {
          "base_uri": "https://localhost:8080/"
        },
        "id": "6Gwx71QTfAbc",
        "outputId": "41821ecb-676c-4e2d-e72a-8549313dabdd"
      },
      "source": [
        "name_prompt = \"\\nWhat's your name? \"\n",
        "place_prompt = \"If you could visit one place in the world, where would it be? \"\n",
        "continue_prompt = \"\\nWould you like to let someone else respond? (yes/no) \"\n",
        "\n",
        "# Responses will be stored in the form {name: place}.\n",
        "responses = {}\n",
        "\n",
        "while True:\n",
        "    # Ask the user where they'd like to go.\n",
        "    name = input(name_prompt)\n",
        "    place = input(place_prompt)\n",
        "\n",
        "    # Store the response.\n",
        "    responses[name] = place\n",
        "\n",
        "    # Ask if there's anyone else responding.\n",
        "    repeat = input(continue_prompt)\n",
        "    if repeat != 'yes':\n",
        "        break\n",
        "\n",
        "# Show results of the survey.\n",
        "print(\"\\n--- Results ---\")\n",
        "for name, place in responses.items():\n",
        "    print(name.title() + \" would like to visit \" + place.title() + \".\")"
      ],
      "execution_count": null,
      "outputs": [
        {
          "output_type": "stream",
          "name": "stdout",
          "text": [
            "\n",
            "What's your name? PIKA\n",
            "If you could visit one place in the world, where would it be? Space\n",
            "\n",
            "Would you like to let someone else respond? (yes/no) yes\n",
            "\n",
            "What's your name? PAPITO\n",
            "If you could visit one place in the world, where would it be? Germany\n",
            "\n",
            "Would you like to let someone else respond? (yes/no) no\n",
            "\n",
            "--- Results ---\n",
            "Pika would like to visit Space.\n",
            "Papito would like to visit Germany.\n"
          ]
        }
      ]
    }
  ]
}